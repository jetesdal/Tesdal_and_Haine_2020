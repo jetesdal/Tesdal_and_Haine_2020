{
 "cells": [
  {
   "cell_type": "markdown",
   "metadata": {},
   "source": [
    "# Liquid freshwater content anomaly in the SPNA and NSEA from EN4"
   ]
  },
  {
   "cell_type": "code",
   "execution_count": 1,
   "metadata": {},
   "outputs": [
    {
     "name": "stderr",
     "output_type": "stream",
     "text": [
      "/usr/local/lib/python3.6/dist-packages/pandas/compat/_optional.py:106: UserWarning: Pandas requires version '1.2.1' or newer of 'bottleneck' (version '1.2.0' currently installed).\n",
      "  warnings.warn(msg, UserWarning)\n"
     ]
    }
   ],
   "source": [
    "import numpy as np\n",
    "import xarray as xr\n",
    "\n",
    "import shapely\n",
    "import geopandas as gpd\n",
    "import salem\n",
    "\n",
    "import matplotlib.pyplot as plt\n",
    "%matplotlib inline"
   ]
  },
  {
   "cell_type": "markdown",
   "metadata": {},
   "source": [
    "### Load salinity from EN4"
   ]
  },
  {
   "cell_type": "code",
   "execution_count": 2,
   "metadata": {},
   "outputs": [],
   "source": [
    "en4 = xr.open_dataset('/mnt/efs/data/hadobs/salinity.nc')"
   ]
  },
  {
   "cell_type": "code",
   "execution_count": 4,
   "metadata": {},
   "outputs": [],
   "source": [
    "# Add area\n",
    "nc = xr.open_dataset('/mnt/efs/data/hadobs/hadobs_en4_area.nc')\n",
    "en4['area'] = nc.area\n",
    "en4.area.attrs= {'units': 'm^2','long_name': 'Grid area'}"
   ]
  },
  {
   "cell_type": "markdown",
   "metadata": {},
   "source": [
    "### Set spatial and temporal range"
   ]
  },
  {
   "cell_type": "code",
   "execution_count": 5,
   "metadata": {},
   "outputs": [],
   "source": [
    "south,north,west,east = 40,90,-110,45\n",
    "\n",
    "tstart = '1900-01-15'\n",
    "tend = '2017-12-15'"
   ]
  },
  {
   "cell_type": "code",
   "execution_count": 6,
   "metadata": {},
   "outputs": [],
   "source": [
    "psal = en4.salinity.sel(time=slice(tstart,tend),lat=slice(south,north),lon=slice(west,east))"
   ]
  },
  {
   "cell_type": "markdown",
   "metadata": {},
   "source": [
    "### Liquid freshwater content\n",
    "The freshwater content (in meters) for each grid point is estimated as\n",
    "$$ h_{fw} = \\int_D^\\eta f \\, dz = \\int_D^\\eta \\frac{S_{ref} - S}{S_{ref}} \\, dz$$"
   ]
  },
  {
   "cell_type": "code",
   "execution_count": 7,
   "metadata": {},
   "outputs": [],
   "source": [
    "psal_ref = 35.0\n",
    "f = (psal_ref - psal)/psal_ref\n",
    "\n",
    "depth_bnds = en4.depth_bnds\n",
    "dz = (depth_bnds[:,1]-depth_bnds[:,0])\n",
    "h_fw = (f * dz).sum('depth')"
   ]
  },
  {
   "cell_type": "markdown",
   "metadata": {},
   "source": [
    "### Spatially integrate to obtain the liquid freshwater content (LFWC)\n",
    "$$LFWC = \\oint h_{fw}\\; dA$$\n",
    "\n",
    "For the subpolar gyre (SPG) we take the common spatial range of 50-62N and 10-60W"
   ]
  },
  {
   "cell_type": "code",
   "execution_count": 8,
   "metadata": {},
   "outputs": [],
   "source": [
    "def get_gdf_patch(coords_patch):\n",
    "    # Replace each pair of points by 10 points for projected map\n",
    "    geometry = []\n",
    "    segments = zip(coords_patch[:-2:2], coords_patch[1:-1:2], coords_patch[2::2], coords_patch[3::2])\n",
    "    \n",
    "    for line in [shapely.geometry.LineString([(x1, y1), (x2, y2)]) for (x1,y1,x2,y2) in segments]:\n",
    "        for length in np.linspace(0,1,11):\n",
    "            geometry.append( line.interpolate(length, normalized=True) )\n",
    "        \n",
    "    gdf_patch = gpd.GeoDataFrame([], geometry=geometry)\n",
    "    \n",
    "    # Convert Points to Polygo\n",
    "    gdf_patch['geometry'] = gdf_patch['geometry'].apply(lambda x: x.coords[0])\n",
    "    \n",
    "    gdf_patch['shape_id'] = 0\n",
    "    gdf_patch = gdf_patch.groupby('shape_id')['geometry'].apply(lambda x: shapely.geometry.Polygon(x.tolist())).reset_index()\n",
    "    gdf_patch = gpd.GeoDataFrame(gdf_patch, geometry = 'geometry')\n",
    "    \n",
    "    # Salem uses this attribute:\n",
    "    gdf_patch.crs = {'init': 'epsg:4326'}\n",
    "    \n",
    "    return gdf_patch"
   ]
  },
  {
   "cell_type": "code",
   "execution_count": 9,
   "metadata": {},
   "outputs": [],
   "source": [
    "coords_spna = [-9.4, 50,-56.8, 50,-67.5, 62.3,-61.6, 66.7,-35, 66.7,-22.1, 66.1,-3.8, 59,-9.4, 50]\n",
    "coords_nsea = [-3.8, 59,-22.1, 66.1,-35, 66.7,-29, 70,-25, 80,20, 80,20, 70,11, 64,5, 60,-3.8,59]"
   ]
  },
  {
   "cell_type": "code",
   "execution_count": 10,
   "metadata": {},
   "outputs": [
    {
     "name": "stderr",
     "output_type": "stream",
     "text": [
      "/usr/local/lib/python3.6/dist-packages/pyproj/crs/crs.py:55: FutureWarning: '+init=<authority>:<code>' syntax is deprecated. '<authority>:<code>' is the preferred initialization method. When making the change, be mindful of axis order changes: https://pyproj4.github.io/pyproj/stable/gotchas.html#axis-order-changes-in-proj-6\n",
      "  return _prepare_from_string(\" \".join(pjargs))\n",
      "/usr/local/lib/python3.6/dist-packages/pyproj/crs/crs.py:55: FutureWarning: '+init=<authority>:<code>' syntax is deprecated. '<authority>:<code>' is the preferred initialization method. When making the change, be mindful of axis order changes: https://pyproj4.github.io/pyproj/stable/gotchas.html#axis-order-changes-in-proj-6\n",
      "  return _prepare_from_string(\" \".join(pjargs))\n"
     ]
    }
   ],
   "source": [
    "gdf_spna = get_gdf_patch(coords_spna)\n",
    "gdf_nsea = get_gdf_patch(coords_nsea)"
   ]
  },
  {
   "cell_type": "code",
   "execution_count": 11,
   "metadata": {},
   "outputs": [
    {
     "name": "stderr",
     "output_type": "stream",
     "text": [
      "/usr/local/lib/python3.6/dist-packages/salem/gis.py:66: UserWarning: You will likely lose important projection information when converting to a PROJ string from another format. See: https://proj.org/faq.html#what-is-the-best-format-for-describing-coordinate-reference-systems\n",
      "  out = pyproj.Proj(crs.to_proj4(), preserve_units=True)\n",
      "/usr/local/lib/python3.6/dist-packages/salem/gis.py:66: UserWarning: You will likely lose important projection information when converting to a PROJ string from another format. See: https://proj.org/faq.html#what-is-the-best-format-for-describing-coordinate-reference-systems\n",
      "  out = pyproj.Proj(crs.to_proj4(), preserve_units=True)\n"
     ]
    }
   ],
   "source": [
    "h_fw_spna = h_fw.salem.roi(shape=gdf_spna.loc[[0]])\n",
    "h_fw_nsea = h_fw.salem.roi(shape=gdf_nsea.loc[[0]])"
   ]
  },
  {
   "cell_type": "code",
   "execution_count": 12,
   "metadata": {},
   "outputs": [],
   "source": [
    "Vfw_spna = (h_fw_spna * en4.area).sum(dim=['lat','lon'])\n",
    "Vfw_nsea = (h_fw_nsea * en4.area).sum(dim=['lat','lon'])\n",
    "\n",
    "# Convert from m^3 to km^3\n",
    "Vfw_spna = Vfw_spna*1e-9\n",
    "Vfw_nsea = Vfw_nsea*1e-9"
   ]
  },
  {
   "cell_type": "code",
   "execution_count": 13,
   "metadata": {},
   "outputs": [],
   "source": [
    "# Anomaly\n",
    "Vfw_spna_anom = Vfw_spna - Vfw_spna.mean('time')\n",
    "Vfw_nsea_anom = Vfw_nsea - Vfw_nsea.mean('time')"
   ]
  },
  {
   "cell_type": "code",
   "execution_count": 14,
   "metadata": {},
   "outputs": [
    {
     "data": {
      "text/plain": [
       "[<matplotlib.lines.Line2D at 0x7fad791b68d0>]"
      ]
     },
     "execution_count": 14,
     "metadata": {},
     "output_type": "execute_result"
    },
    {
     "data": {
      "image/png": "[encoded data removed]",
      "text/plain": [
       "<Figure size 432x288 with 1 Axes>"
      ]
     },
     "metadata": {
      "needs_background": "light"
     },
     "output_type": "display_data"
    }
   ],
   "source": [
    "Vfw_spna_anom.plot()\n",
    "Vfw_nsea_anom.plot()"
   ]
  },
  {
   "cell_type": "code",
   "execution_count": 15,
   "metadata": {},
   "outputs": [],
   "source": [
    "ds_spna = Vfw_spna_anom.to_dataset(name='lfwc')\n",
    "ds_nsea = Vfw_nsea_anom.to_dataset(name='lfwc')"
   ]
  },
  {
   "cell_type": "code",
   "execution_count": 16,
   "metadata": {},
   "outputs": [],
   "source": [
    "ds_spna.to_netcdf('/mnt/efs/data/hadobs/en4_lfwc_spna_monthly.nc', format='NETCDF4',\n",
    "                  encoding={'lfwc': {'zlib': True}})"
   ]
  },
  {
   "cell_type": "code",
   "execution_count": 17,
   "metadata": {},
   "outputs": [],
   "source": [
    "ds_nsea.to_netcdf('/mnt/efs/data/hadobs/en4_lfwc_nsea_monthly.nc', format='NETCDF4',\n",
    "                  encoding={'lfwc': {'zlib': True}})"
   ]
  },
  {
   "cell_type": "code",
   "execution_count": null,
   "metadata": {},
   "outputs": [],
   "source": []
  }
 ],
 "metadata": {
  "kernelspec": {
   "display_name": "Python 3",
   "language": "python",
   "name": "python3"
  },
  "language_info": {
   "codemirror_mode": {
    "name": "ipython",
    "version": 3
   },
   "file_extension": ".py",
   "mimetype": "text/x-python",
   "name": "python",
   "nbconvert_exporter": "python",
   "pygments_lexer": "ipython3",
   "version": "3.6.9"
  }
 },
 "nbformat": 4,
 "nbformat_minor": 4
}
