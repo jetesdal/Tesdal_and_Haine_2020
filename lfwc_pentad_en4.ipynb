{
 "cells": [
  {
   "cell_type": "markdown",
   "metadata": {},
   "source": [
    "# Liquid freshwater content (pentad) in the SPNA and NSEA from EN4"
   ]
  },
  {
   "cell_type": "code",
   "execution_count": 1,
   "metadata": {},
   "outputs": [
    {
     "name": "stderr",
     "output_type": "stream",
     "text": [
      "/usr/local/lib/python3.6/dist-packages/pandas/compat/_optional.py:106: UserWarning: Pandas requires version '1.2.1' or newer of 'bottleneck' (version '1.2.0' currently installed).\n",
      "  warnings.warn(msg, UserWarning)\n"
     ]
    }
   ],
   "source": [
    "import numpy as np\n",
    "import xarray as xr\n",
    "import pandas as pd\n",
    "\n",
    "import shapely\n",
    "import geopandas as gpd\n",
    "import salem\n",
    "\n",
    "import matplotlib.pyplot as plt\n",
    "%matplotlib inline"
   ]
  },
  {
   "cell_type": "markdown",
   "metadata": {},
   "source": [
    "### Load datasets"
   ]
  },
  {
   "cell_type": "code",
   "execution_count": 2,
   "metadata": {},
   "outputs": [],
   "source": [
    "en4 = xr.open_dataset('/mnt/efs/data/hadobs/salinity.nc')"
   ]
  },
  {
   "cell_type": "markdown",
   "metadata": {},
   "source": [
    "#### Area"
   ]
  },
  {
   "cell_type": "code",
   "execution_count": 3,
   "metadata": {},
   "outputs": [],
   "source": [
    "# Add area\n",
    "nc = xr.open_dataset('/mnt/efs/data/hadobs/hadobs_en4_area.nc')\n",
    "en4['area'] = nc.area\n",
    "en4.area.attrs= {'units': 'm^2','long_name': 'Grid area'}"
   ]
  },
  {
   "cell_type": "markdown",
   "metadata": {},
   "source": [
    "### Set spatial and temporal range"
   ]
  },
  {
   "cell_type": "code",
   "execution_count": 4,
   "metadata": {},
   "outputs": [],
   "source": [
    "south = 45\n",
    "north = 90\n",
    "west = -110\n",
    "east = 45\n",
    "\n",
    "tstart = '1950-01-01'\n",
    "tend = '2017-12-31'"
   ]
  },
  {
   "cell_type": "code",
   "execution_count": 5,
   "metadata": {},
   "outputs": [],
   "source": [
    "psal = en4.salinity.sel(time=slice(tstart,tend),lat=slice(south,north),lon=slice(west,east))"
   ]
  },
  {
   "cell_type": "code",
   "execution_count": 6,
   "metadata": {},
   "outputs": [
    {
     "name": "stderr",
     "output_type": "stream",
     "text": [
      "/usr/local/lib/python3.6/dist-packages/xarray/core/nanops.py:142: RuntimeWarning: Mean of empty slice\n",
      "  return np.nanmean(a, axis=axis, dtype=dtype)\n"
     ]
    }
   ],
   "source": [
    "# psal_ref: baseline for computing anomalies\n",
    "psal_ref = psal.sel(time=slice('1950-01-15','1959-12-15')).groupby('time.month').mean('time')"
   ]
  },
  {
   "cell_type": "code",
   "execution_count": 7,
   "metadata": {},
   "outputs": [],
   "source": [
    "# Calculate monthly averages for each pentad timeframe\n",
    "psal_5357 = psal.sel(time=slice('1953-01-15','1957-12-15')).groupby('time.month').mean('time')\n",
    "psal_5862 = psal.sel(time=slice('1958-01-15','1962-12-15')).groupby('time.month').mean('time')\n",
    "psal_6367 = psal.sel(time=slice('1963-01-15','1967-12-15')).groupby('time.month').mean('time')\n",
    "psal_6872 = psal.sel(time=slice('1968-01-15','1972-12-15')).groupby('time.month').mean('time')\n",
    "psal_7377 = psal.sel(time=slice('1973-01-15','1977-12-15')).groupby('time.month').mean('time')\n",
    "psal_7882 = psal.sel(time=slice('1978-01-15','1982-12-15')).groupby('time.month').mean('time')\n",
    "psal_8387 = psal.sel(time=slice('1983-01-15','1987-12-15')).groupby('time.month').mean('time')\n",
    "psal_8892 = psal.sel(time=slice('1988-01-15','1992-12-15')).groupby('time.month').mean('time')\n",
    "psal_9397 = psal.sel(time=slice('1993-01-15','1997-12-15')).groupby('time.month').mean('time')\n",
    "psal_9802 = psal.sel(time=slice('1998-01-15','2002-12-15')).groupby('time.month').mean('time')\n",
    "psal_0307 = psal.sel(time=slice('2003-01-15','2007-12-15')).groupby('time.month').mean('time')\n",
    "psal_0812 = psal.sel(time=slice('2008-01-15','2012-12-15')).groupby('time.month').mean('time')\n",
    "psal_1317 = psal.sel(time=slice('2013-01-15','2017-12-15')).groupby('time.month').mean('time')"
   ]
  },
  {
   "cell_type": "code",
   "execution_count": 8,
   "metadata": {},
   "outputs": [],
   "source": [
    "# Calculate mean salinity for each pentad and combine to single data array\n",
    "psal_pentad = xr.concat([psal_5357.mean('month'),psal_5862.mean('month'),psal_6367.mean('month'),\n",
    "                         psal_6872.mean('month'),psal_7377.mean('month'),psal_7882.mean('month'),\n",
    "                         psal_8387.mean('month'),psal_8892.mean('month'),psal_9397.mean('month'),\n",
    "                         psal_9802.mean('month'),psal_0307.mean('month'),psal_0812.mean('month'),\n",
    "                         psal_1317.mean('month')], 'pentad')"
   ]
  },
  {
   "cell_type": "code",
   "execution_count": 9,
   "metadata": {},
   "outputs": [],
   "source": [
    "# Calculate mean salinity anomaly for each pentad and combine to single data array\n",
    "psal_pentad_anom = xr.concat([(psal_ref-psal_5357).mean('month'),(psal_ref-psal_5862).mean('month'),\n",
    "                              (psal_ref-psal_6367).mean('month'),(psal_ref-psal_6872).mean('month'),\n",
    "                              (psal_ref-psal_7377).mean('month'),(psal_ref-psal_7882).mean('month'),\n",
    "                              (psal_ref-psal_8387).mean('month'),(psal_ref-psal_8892).mean('month'),\n",
    "                              (psal_ref-psal_9397).mean('month'),(psal_ref-psal_9802).mean('month'),\n",
    "                              (psal_ref-psal_0307).mean('month'),(psal_ref-psal_0812).mean('month'),\n",
    "                              (psal_ref-psal_1317).mean('month')], 'pentad')"
   ]
  },
  {
   "cell_type": "markdown",
   "metadata": {},
   "source": [
    "## Freshwater anomaly\n",
    "The amount of dilution, $\\Delta F$, for the water column at each gridpoint is evaluated from depth-averaged salinity differences relative to the baseline time period ($S – S_{ref}$) accumulated in discrete layers with height $dz$:\n",
    "$$ \\Delta F_{x,y} = \\frac{\\Delta S_{x,y}\\;H_{x,y}}{S_{avg}}$$\n",
    "\n",
    "where $\\Delta S_{x,y}$ is\n",
    "$$\\Delta S_{x,y} = \\frac{\\sum{(S_{ref} - S)\\,dz}}{\\sum\\,dz}$$\n",
    "\n",
    "and $S_{avg}$ is the depth-averaged salinity for the water column with height $H_{x,y}$."
   ]
  },
  {
   "cell_type": "markdown",
   "metadata": {},
   "source": [
    "#### Get vertical spacing of each layer (`dz`)"
   ]
  },
  {
   "cell_type": "code",
   "execution_count": 10,
   "metadata": {},
   "outputs": [],
   "source": [
    "depth_bnds = en4.depth_bnds"
   ]
  },
  {
   "cell_type": "code",
   "execution_count": 11,
   "metadata": {},
   "outputs": [],
   "source": [
    "dz = (depth_bnds[:,1]-depth_bnds[:,0])"
   ]
  },
  {
   "cell_type": "markdown",
   "metadata": {},
   "source": [
    "#### Water column heights"
   ]
  },
  {
   "cell_type": "code",
   "execution_count": 12,
   "metadata": {},
   "outputs": [],
   "source": [
    "H = ((psal_pentad/psal_pentad)*dz).sum('depth')"
   ]
  },
  {
   "cell_type": "markdown",
   "metadata": {},
   "source": [
    "#### Depth-averaged salinity"
   ]
  },
  {
   "cell_type": "code",
   "execution_count": 13,
   "metadata": {},
   "outputs": [],
   "source": [
    "S_avg = (psal_pentad * dz).sum('depth')/H\n",
    "\n",
    "#Hxy = ((psal_ref.mean('month')/psal_ref.mean('month'))*dz).sum('depth')\n",
    "#S_avg = (psal_ref.mean('month') * dz).sum('depth')/Hxy"
   ]
  },
  {
   "cell_type": "markdown",
   "metadata": {},
   "source": [
    "#### Depth-averaged salinity difference"
   ]
  },
  {
   "cell_type": "code",
   "execution_count": 14,
   "metadata": {},
   "outputs": [],
   "source": [
    "dS = (psal_pentad_anom * dz).sum('depth')/H"
   ]
  },
  {
   "cell_type": "markdown",
   "metadata": {},
   "source": [
    "#### Freshwater change ($\\Delta F$)"
   ]
  },
  {
   "cell_type": "code",
   "execution_count": 15,
   "metadata": {},
   "outputs": [],
   "source": [
    "dF = (dS*H)/S_avg"
   ]
  },
  {
   "cell_type": "markdown",
   "metadata": {},
   "source": [
    "### Spatially integrate to obtain the liquid freshwater content (LFWC)\n",
    "The volumetric census of freshwater anomalies (in km$^3$) is evaluated by integrating the area-weighted anomaly over the entire gridded domain:\n",
    "\n",
    "$$\\Delta F = \\sum \\Delta F_{x,y}\\;dxdy $$"
   ]
  },
  {
   "cell_type": "markdown",
   "metadata": {
    "collapsed": true
   },
   "source": [
    "#### Define regions: Subpolar North Atlantic (`spna`) and Nordic Seas (`nsea`)"
   ]
  },
  {
   "cell_type": "code",
   "execution_count": 16,
   "metadata": {},
   "outputs": [],
   "source": [
    "def get_gdf_patch(coords_patch):\n",
    "    # Replace each pair of points by 10 points for projected map\n",
    "    geometry = []\n",
    "    segments = zip(coords_patch[:-2:2], coords_patch[1:-1:2], coords_patch[2::2], coords_patch[3::2])\n",
    "    \n",
    "    for line in [shapely.geometry.LineString([(x1, y1), (x2, y2)]) for (x1,y1,x2,y2) in segments]:\n",
    "        for length in np.linspace(0,1,11):\n",
    "            geometry.append( line.interpolate(length, normalized=True) )\n",
    "        \n",
    "    gdf_patch = gpd.GeoDataFrame([], geometry=geometry)\n",
    "    \n",
    "    # Convert Points to Polygo\n",
    "    gdf_patch['geometry'] = gdf_patch['geometry'].apply(lambda x: x.coords[0])\n",
    "    \n",
    "    gdf_patch['shape_id'] = 0\n",
    "    gdf_patch = gdf_patch.groupby('shape_id')['geometry'].apply(lambda x: shapely.geometry.Polygon(x.tolist())).reset_index()\n",
    "    gdf_patch = gpd.GeoDataFrame(gdf_patch, geometry = 'geometry')\n",
    "    \n",
    "    # Salem uses this attribute:\n",
    "    gdf_patch.crs = {'init': 'epsg:4326'}\n",
    "    \n",
    "    return gdf_patch"
   ]
  },
  {
   "cell_type": "code",
   "execution_count": 17,
   "metadata": {},
   "outputs": [],
   "source": [
    "coords_spna = [-9.4, 50,-56.8, 50,-67.5, 62.3,-61.6, 66.7,-35, 66.7,-22.1, 66.1,-3.8, 59,-9.4, 50]\n",
    "coords_nsea = [-3.8, 59,-22.1, 66.1,-35, 66.7,-29, 70,-25, 80,20, 80,20, 70,11, 64,5, 60,-3.8,59]"
   ]
  },
  {
   "cell_type": "code",
   "execution_count": 18,
   "metadata": {},
   "outputs": [
    {
     "name": "stderr",
     "output_type": "stream",
     "text": [
      "/usr/local/lib/python3.6/dist-packages/pyproj/crs/crs.py:55: FutureWarning: '+init=<authority>:<code>' syntax is deprecated. '<authority>:<code>' is the preferred initialization method. When making the change, be mindful of axis order changes: https://pyproj4.github.io/pyproj/stable/gotchas.html#axis-order-changes-in-proj-6\n",
      "  return _prepare_from_string(\" \".join(pjargs))\n",
      "/usr/local/lib/python3.6/dist-packages/pyproj/crs/crs.py:55: FutureWarning: '+init=<authority>:<code>' syntax is deprecated. '<authority>:<code>' is the preferred initialization method. When making the change, be mindful of axis order changes: https://pyproj4.github.io/pyproj/stable/gotchas.html#axis-order-changes-in-proj-6\n",
      "  return _prepare_from_string(\" \".join(pjargs))\n"
     ]
    }
   ],
   "source": [
    "gdf_spna = get_gdf_patch(coords_spna)\n",
    "gdf_nsea = get_gdf_patch(coords_nsea)"
   ]
  },
  {
   "cell_type": "markdown",
   "metadata": {},
   "source": [
    "### Region of interest (ROI)\n",
    "All grid points outside the ROI will be masked out."
   ]
  },
  {
   "cell_type": "code",
   "execution_count": 19,
   "metadata": {},
   "outputs": [
    {
     "name": "stderr",
     "output_type": "stream",
     "text": [
      "/usr/local/lib/python3.6/dist-packages/salem/gis.py:66: UserWarning: You will likely lose important projection information when converting to a PROJ string from another format. See: https://proj.org/faq.html#what-is-the-best-format-for-describing-coordinate-reference-systems\n",
      "  out = pyproj.Proj(crs.to_proj4(), preserve_units=True)\n",
      "/usr/local/lib/python3.6/dist-packages/salem/gis.py:66: UserWarning: You will likely lose important projection information when converting to a PROJ string from another format. See: https://proj.org/faq.html#what-is-the-best-format-for-describing-coordinate-reference-systems\n",
      "  out = pyproj.Proj(crs.to_proj4(), preserve_units=True)\n"
     ]
    }
   ],
   "source": [
    "dF_spna = dF.salem.roi(shape=gdf_spna.loc[[0]])\n",
    "dF_nsea = dF.salem.roi(shape=gdf_nsea.loc[[0]])"
   ]
  },
  {
   "cell_type": "code",
   "execution_count": 20,
   "metadata": {},
   "outputs": [
    {
     "data": {
      "text/plain": [
       "<matplotlib.collections.QuadMesh at 0x7f4848899748>"
      ]
     },
     "execution_count": 20,
     "metadata": {},
     "output_type": "execute_result"
    },
    {
     "data": {
      "image/png": "[encoded data removed]",
      "text/plain": [
       "<Figure size 432x288 with 2 Axes>"
      ]
     },
     "metadata": {
      "needs_background": "light"
     },
     "output_type": "display_data"
    }
   ],
   "source": [
    "dF_nsea[0].plot()"
   ]
  },
  {
   "cell_type": "code",
   "execution_count": 21,
   "metadata": {},
   "outputs": [
    {
     "data": {
      "text/plain": [
       "<matplotlib.collections.QuadMesh at 0x7f48487d8710>"
      ]
     },
     "execution_count": 21,
     "metadata": {},
     "output_type": "execute_result"
    },
    {
     "data": {
      "image/png": "[encoded data removed]",
      "text/plain": [
       "<Figure size 432x288 with 2 Axes>"
      ]
     },
     "metadata": {
      "needs_background": "light"
     },
     "output_type": "display_data"
    }
   ],
   "source": [
    "dF_spna[0].plot()"
   ]
  },
  {
   "cell_type": "code",
   "execution_count": 22,
   "metadata": {},
   "outputs": [],
   "source": [
    "lfwc_spna = (dF_spna * en4.area).sum(dim=['lat','lon'])\n",
    "lfwc_nsea = (dF_nsea * en4.area).sum(dim=['lat','lon'])\n",
    "\n",
    "# Convert from m^3 to km^3\n",
    "lfwc_spna = lfwc_spna*1e-9\n",
    "lfwc_nsea = lfwc_nsea*1e-9"
   ]
  },
  {
   "cell_type": "code",
   "execution_count": 23,
   "metadata": {},
   "outputs": [],
   "source": [
    "lfwc_spna = xr.DataArray(lfwc_spna.values,coords=[pd.date_range('1955-06-30','2015-06-30',freq='60M')],dims=['time'])\n",
    "lfwc_nsea = xr.DataArray(lfwc_nsea.values,coords=[pd.date_range('1955-06-30','2015-06-30',freq='60M')],dims=['time'])"
   ]
  },
  {
   "cell_type": "code",
   "execution_count": 24,
   "metadata": {},
   "outputs": [
    {
     "data": {
      "text/plain": [
       "[<matplotlib.lines.Line2D at 0x7f4848231cc0>]"
      ]
     },
     "execution_count": 24,
     "metadata": {},
     "output_type": "execute_result"
    },
    {
     "data": {
      "image/png": "[encoded data removed]",
      "text/plain": [
       "<Figure size 432x288 with 1 Axes>"
      ]
     },
     "metadata": {
      "needs_background": "light"
     },
     "output_type": "display_data"
    }
   ],
   "source": [
    "lfwc_spna.plot()\n",
    "lfwc_nsea.plot()"
   ]
  },
  {
   "cell_type": "code",
   "execution_count": 25,
   "metadata": {},
   "outputs": [],
   "source": [
    "ds_spna = lfwc_spna.to_dataset(name='lfwc')\n",
    "ds_nsea = lfwc_nsea.to_dataset(name='lfwc')"
   ]
  },
  {
   "cell_type": "code",
   "execution_count": 26,
   "metadata": {},
   "outputs": [],
   "source": [
    "ds_spna.to_netcdf('/mnt/efs/data/hadobs/en4_lfwc_spna_pentad.nc', format='NETCDF4',\n",
    "                  encoding={'lfwc':   {'zlib': True}})"
   ]
  },
  {
   "cell_type": "code",
   "execution_count": 27,
   "metadata": {},
   "outputs": [],
   "source": [
    "ds_nsea.to_netcdf('/mnt/efs/data/hadobs/en4_lfwc_nsea_pentad.nc', format='NETCDF4',\n",
    "                  encoding={'lfwc':   {'zlib': True}})"
   ]
  },
  {
   "cell_type": "code",
   "execution_count": null,
   "metadata": {},
   "outputs": [],
   "source": []
  }
 ],
 "metadata": {
  "kernelspec": {
   "display_name": "Python 3",
   "language": "python",
   "name": "python3"
  },
  "language_info": {
   "codemirror_mode": {
    "name": "ipython",
    "version": 3
   },
   "file_extension": ".py",
   "mimetype": "text/x-python",
   "name": "python",
   "nbconvert_exporter": "python",
   "pygments_lexer": "ipython3",
   "version": "3.7.9"
  }
 },
 "nbformat": 4,
 "nbformat_minor": 2
}
