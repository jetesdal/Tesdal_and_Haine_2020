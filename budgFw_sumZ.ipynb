{
 "cells": [
  {
   "cell_type": "code",
   "execution_count": 1,
   "metadata": {},
   "outputs": [],
   "source": [
    "import warnings\n",
    "warnings.filterwarnings('ignore')"
   ]
  },
  {
   "cell_type": "code",
   "execution_count": 2,
   "metadata": {},
   "outputs": [],
   "source": [
    "import numpy as np\n",
    "import xarray as xr\n",
    "import dask\n",
    "import zarr"
   ]
  },
  {
   "cell_type": "code",
   "execution_count": 3,
   "metadata": {},
   "outputs": [],
   "source": [
    "main = xr.open_zarr('/mnt/efs/data/ecco/zarr/eccov4r3_output/')"
   ]
  },
  {
   "cell_type": "code",
   "execution_count": 4,
   "metadata": {},
   "outputs": [],
   "source": [
    "budgFw = xr.open_zarr('/mnt/efs/data/ecco/zarr/anom/budgFw/')"
   ]
  },
  {
   "cell_type": "markdown",
   "metadata": {},
   "source": [
    "### Depth average (upper Z)"
   ]
  },
  {
   "cell_type": "code",
   "execution_count": 5,
   "metadata": {},
   "outputs": [],
   "source": [
    "budgFw.coords['Z'] = main.Z"
   ]
  },
  {
   "cell_type": "code",
   "execution_count": 6,
   "metadata": {},
   "outputs": [
    {
     "name": "stdout",
     "output_type": "stream",
     "text": [
      "[-5 -15 -25 -35 -45 -55 -65 -75.005 -85.025 -95.095 -105.31 -115.87\n",
      " -127.15 -139.74 -154.47 -172.4 -194.735 -222.71 -257.47 -299.93 -350.68\n",
      " -409.93 -477.47 -552.71 -634.735 -722.4 -814.47 -909.74 -1007.16 -1105.91\n",
      " -1205.54 -1306.2 -1409.15 -1517.09 -1634.18 -1765.14 -1914.15 -2084.03\n",
      " -2276.23 -2491.25 -2729.25 -2990.25 -3274.25 -3581.25 -3911.25 -4264.25\n",
      " -4640.25 -5039.25 -5461.25 -5906.25]\n"
     ]
    }
   ],
   "source": [
    "np.set_printoptions(formatter={\"float_kind\": lambda x: \"%g\" % x})\n",
    "print(budgFw.Z.values)"
   ]
  },
  {
   "cell_type": "code",
   "execution_count": 7,
   "metadata": {},
   "outputs": [],
   "source": [
    "budgFw = budgFw.swap_dims({'k':'Z'})"
   ]
  },
  {
   "cell_type": "code",
   "execution_count": 8,
   "metadata": {},
   "outputs": [
    {
     "name": "stdout",
     "output_type": "stream",
     "text": [
      "Depth at lower cell edge: -20.0  m\n"
     ]
    }
   ],
   "source": [
    "z_lower = 20\n",
    "print('Depth at lower cell edge:',main.Zu[budgFw.sel(Z=slice(0,-z_lower)).k.values[-1]].values,' m')"
   ]
  },
  {
   "cell_type": "code",
   "execution_count": 9,
   "metadata": {},
   "outputs": [],
   "source": [
    "# Create mask to ensure all terms have the depth range in defined values\n",
    "mask = budgFw.frc + budgFw.adv_ConvFWb + budgFw.adv_ConvFWe + budgFw.adv_ConvFw + \\\n",
    "        budgFw.hadv_Uanom_FWanom + budgFw.hadv_Uanom_FWclim + budgFw.hadv_Uclim_FWanom + budgFw.tnd + \\\n",
    "        budgFw.vadv_Uanom_FWanom + budgFw.vadv_Uanom_FWclim + budgFw.vadv_Uclim_FWanom"
   ]
  },
  {
   "cell_type": "code",
   "execution_count": 10,
   "metadata": {},
   "outputs": [],
   "source": [
    "#budgFw_aveZ = (budgFw*(mask/mask)).sel(Z=slice(0,-z_lower)).sum('Z')/budgFw.sel(Z=slice(0,-z_lower)).vol.sum('Z')\n",
    "budgFw_sumZ = (budgFw*(mask/mask)).sel(Z=slice(0,-z_lower)).sum('Z')"
   ]
  },
  {
   "cell_type": "markdown",
   "metadata": {},
   "source": [
    "### Rechunking"
   ]
  },
  {
   "cell_type": "code",
   "execution_count": 11,
   "metadata": {},
   "outputs": [],
   "source": [
    "for varname in budgFw_sumZ.data_vars:\n",
    "    budgFw_sumZ[varname] = budgFw_sumZ[varname].chunk(chunks={'time':288,'face':1,'j':90,'i':90})"
   ]
  },
  {
   "cell_type": "code",
   "execution_count": 12,
   "metadata": {},
   "outputs": [],
   "source": [
    "budgFw_sumZ = budgFw_sumZ.reset_coords(drop=True)"
   ]
  },
  {
   "cell_type": "code",
   "execution_count": 13,
   "metadata": {},
   "outputs": [
    {
     "data": {
      "text/plain": [
       "<xarray.Dataset>\n",
       "Dimensions:            (face: 13, i: 90, j: 90, time: 288)\n",
       "Coordinates:\n",
       "  * face               (face) int64 0 1 2 3 4 5 6 7 8 9 10 11 12\n",
       "  * i                  (i) int64 0 1 2 3 4 5 6 7 8 ... 82 83 84 85 86 87 88 89\n",
       "  * j                  (j) int64 0 1 2 3 4 5 6 7 8 ... 82 83 84 85 86 87 88 89\n",
       "  * time               (time) datetime64[ns] 1992-01-15 ... 2015-12-14T12:00:00\n",
       "Data variables:\n",
       "    adv_ConvFWb        (time, face, j, i) float64 dask.array<chunksize=(288, 1, 90, 90), meta=np.ndarray>\n",
       "    adv_ConvFWe        (time, face, j, i) float64 dask.array<chunksize=(288, 1, 90, 90), meta=np.ndarray>\n",
       "    adv_ConvFw         (time, face, j, i) float64 dask.array<chunksize=(288, 1, 90, 90), meta=np.ndarray>\n",
       "    frc                (time, face, j, i) float64 dask.array<chunksize=(288, 1, 90, 90), meta=np.ndarray>\n",
       "    hadv_Uanom_FWanom  (time, face, j, i) float64 dask.array<chunksize=(288, 1, 90, 90), meta=np.ndarray>\n",
       "    hadv_Uanom_FWclim  (time, face, j, i) float64 dask.array<chunksize=(288, 1, 90, 90), meta=np.ndarray>\n",
       "    hadv_Uclim_FWanom  (time, face, j, i) float64 dask.array<chunksize=(288, 1, 90, 90), meta=np.ndarray>\n",
       "    tnd                (time, face, j, i) float64 dask.array<chunksize=(288, 1, 90, 90), meta=np.ndarray>\n",
       "    vadv_Uanom_FWanom  (time, face, j, i) float64 dask.array<chunksize=(288, 1, 90, 90), meta=np.ndarray>\n",
       "    vadv_Uanom_FWclim  (time, face, j, i) float64 dask.array<chunksize=(288, 1, 90, 90), meta=np.ndarray>\n",
       "    vadv_Uclim_FWanom  (time, face, j, i) float64 dask.array<chunksize=(288, 1, 90, 90), meta=np.ndarray>"
      ]
     },
     "execution_count": 13,
     "metadata": {},
     "output_type": "execute_result"
    }
   ],
   "source": [
    "budgFw_sumZ"
   ]
  },
  {
   "cell_type": "markdown",
   "metadata": {},
   "source": [
    "### Save to zarr"
   ]
  },
  {
   "cell_type": "code",
   "execution_count": 14,
   "metadata": {},
   "outputs": [],
   "source": [
    "compressor = zarr.Blosc(cname='zlib')\n",
    "opts = {}\n",
    "for varname in budgFw_sumZ.data_vars:\n",
    "    opts[varname] = {'compressor': compressor, 'chunks': (288, 1, 90, 90)}"
   ]
  },
  {
   "cell_type": "code",
   "execution_count": 15,
   "metadata": {},
   "outputs": [],
   "source": [
    "from dask.diagnostics import ProgressBar"
   ]
  },
  {
   "cell_type": "code",
   "execution_count": 16,
   "metadata": {},
   "outputs": [
    {
     "name": "stdout",
     "output_type": "stream",
     "text": [
      "\u001b[0m\u001b[01;34mbudgFw\u001b[0m/  \u001b[01;34mbudgH\u001b[0m/\r\n"
     ]
    }
   ],
   "source": [
    "ls /mnt/efs/data/ecco/zarr/anom"
   ]
  },
  {
   "cell_type": "code",
   "execution_count": 17,
   "metadata": {},
   "outputs": [
    {
     "name": "stdout",
     "output_type": "stream",
     "text": [
      "[########################################] | 100% Completed | 41.6s\n"
     ]
    }
   ],
   "source": [
    "with ProgressBar():\n",
    "    budgFw_sumZ.to_zarr('/mnt/efs/data/ecco/zarr/anom/budgFw_20m', encoding=opts)"
   ]
  },
  {
   "cell_type": "code",
   "execution_count": null,
   "metadata": {},
   "outputs": [],
   "source": []
  }
 ],
 "metadata": {
  "kernelspec": {
   "display_name": "Python 3",
   "language": "python",
   "name": "python3"
  },
  "language_info": {
   "codemirror_mode": {
    "name": "ipython",
    "version": 3
   },
   "file_extension": ".py",
   "mimetype": "text/x-python",
   "name": "python",
   "nbconvert_exporter": "python",
   "pygments_lexer": "ipython3",
   "version": "3.6.9"
  }
 },
 "nbformat": 4,
 "nbformat_minor": 2
}
