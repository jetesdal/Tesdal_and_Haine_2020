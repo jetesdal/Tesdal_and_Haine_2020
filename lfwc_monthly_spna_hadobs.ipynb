{
 "cells": [
  {
   "cell_type": "markdown",
   "metadata": {},
   "source": [
    "# Liquid freshwater content (LFWC) in the Subpolar North Atlantic (SPNA)"
   ]
  },
  {
   "cell_type": "code",
   "execution_count": 1,
   "metadata": {},
   "outputs": [
    {
     "name": "stdout",
     "output_type": "stream",
     "text": [
      "Downloading salem-sample-data...\n"
     ]
    }
   ],
   "source": [
    "import numpy as np\n",
    "import xarray as xr\n",
    "\n",
    "import shapely\n",
    "import geopandas as gpd\n",
    "import salem\n",
    "\n",
    "import matplotlib.pyplot as plt\n",
    "%matplotlib inline"
   ]
  },
  {
   "cell_type": "code",
   "execution_count": 2,
   "metadata": {},
   "outputs": [
    {
     "data": {
      "text/plain": [
       "'0.2.2'"
      ]
     },
     "execution_count": 2,
     "metadata": {},
     "output_type": "execute_result"
    }
   ],
   "source": [
    "salem.__version__"
   ]
  },
  {
   "cell_type": "code",
   "execution_count": 3,
   "metadata": {},
   "outputs": [
    {
     "data": {
      "text/plain": [
       "u'0.10.8'"
      ]
     },
     "execution_count": 3,
     "metadata": {},
     "output_type": "execute_result"
    }
   ],
   "source": [
    "xr.__version__"
   ]
  },
  {
   "cell_type": "markdown",
   "metadata": {},
   "source": [
    "### Load datasets"
   ]
  },
  {
   "cell_type": "markdown",
   "metadata": {},
   "source": [
    "#### HadOBS EN4"
   ]
  },
  {
   "cell_type": "code",
   "execution_count": 4,
   "metadata": {
    "collapsed": true
   },
   "outputs": [],
   "source": [
    "ds = xr.open_dataset('/home/jet/data/hadobs/converted/en4/salinity.nc')"
   ]
  },
  {
   "cell_type": "markdown",
   "metadata": {},
   "source": [
    "#### Area"
   ]
  },
  {
   "cell_type": "code",
   "execution_count": 5,
   "metadata": {
    "collapsed": true
   },
   "outputs": [],
   "source": [
    "nc = xr.open_dataset('/home/jet/data/hadobs/hadobs_en4_area.nc')\n",
    "ds['area'] = nc.area\n",
    "ds.area.attrs= {'units': 'm^2','long_name': 'Grid area'}"
   ]
  },
  {
   "cell_type": "markdown",
   "metadata": {},
   "source": [
    "### Set spatial and temporal range"
   ]
  },
  {
   "cell_type": "code",
   "execution_count": 6,
   "metadata": {
    "collapsed": true
   },
   "outputs": [],
   "source": [
    "south = 45\n",
    "north = 90\n",
    "west = -110\n",
    "east = 45\n",
    "\n",
    "tstart = '1900-01-15'\n",
    "tend = '2017-12-15'"
   ]
  },
  {
   "cell_type": "code",
   "execution_count": 7,
   "metadata": {
    "collapsed": true
   },
   "outputs": [],
   "source": [
    "psal = ds.salinity.sel(time=slice(tstart,tend),lat=slice(south,north),lon=slice(west,east))"
   ]
  },
  {
   "cell_type": "markdown",
   "metadata": {},
   "source": [
    "## Liquid freshwater content\n",
    "The freshwater content (in meters) for each grid point is estimated as\n",
    "$$ h_{fw} = \\int_D^\\eta f \\, dz = \\int_D^\\eta \\frac{S_{ref} - S}{S_{ref}} \\, dz$$"
   ]
  },
  {
   "cell_type": "code",
   "execution_count": 8,
   "metadata": {
    "collapsed": true
   },
   "outputs": [],
   "source": [
    "psal_ref = 34.80"
   ]
  },
  {
   "cell_type": "code",
   "execution_count": 9,
   "metadata": {
    "collapsed": true
   },
   "outputs": [],
   "source": [
    "f = (psal_ref - psal)/psal_ref"
   ]
  },
  {
   "cell_type": "markdown",
   "metadata": {},
   "source": [
    "### Array of grid height (`dz`)"
   ]
  },
  {
   "cell_type": "code",
   "execution_count": 10,
   "metadata": {
    "collapsed": true
   },
   "outputs": [],
   "source": [
    "#depth_bnds = ds.depth_bnds.sel(time=slice(tstart,tend),lon=slice(west,east))\n",
    "depth_bnds = ds.depth_bnds"
   ]
  },
  {
   "cell_type": "code",
   "execution_count": 11,
   "metadata": {
    "collapsed": true
   },
   "outputs": [],
   "source": [
    "dz = (depth_bnds[:,1]-depth_bnds[:,0])"
   ]
  },
  {
   "cell_type": "markdown",
   "metadata": {},
   "source": [
    "### Sum over depth levels"
   ]
  },
  {
   "cell_type": "code",
   "execution_count": 12,
   "metadata": {},
   "outputs": [
    {
     "name": "stdout",
     "output_type": "stream",
     "text": [
      "5500.0\n"
     ]
    }
   ],
   "source": [
    "print depth_bnds.max().values"
   ]
  },
  {
   "cell_type": "code",
   "execution_count": 13,
   "metadata": {},
   "outputs": [
    {
     "name": "stdout",
     "output_type": "stream",
     "text": [
      "(1416, 42, 45, 156)\n",
      "(1416, 42, 45, 156)\n"
     ]
    }
   ],
   "source": [
    "#D = 2012.5\n",
    "D = 5500.0\n",
    "print np.shape(f)\n",
    "print np.shape((f * dz).sel(depth=slice(0,D)))"
   ]
  },
  {
   "cell_type": "code",
   "execution_count": 14,
   "metadata": {
    "collapsed": true
   },
   "outputs": [],
   "source": [
    "h_fw = (f * dz).sel(depth=slice(0,D)).sum('depth')"
   ]
  },
  {
   "cell_type": "markdown",
   "metadata": {},
   "source": [
    "### Spatially integrate to obtain the liquid freshwater content (LFWC)\n",
    "$$LFWC = \\oint h_{fw}\\; dA$$\n",
    "\n",
    "For the subpolar gyre (SPG) we take the common spatial range of 50-62N and 10-60W"
   ]
  },
  {
   "cell_type": "markdown",
   "metadata": {},
   "source": [
    "#### Define regions: Subpolar North Atlantic (`spna`)"
   ]
  },
  {
   "cell_type": "code",
   "execution_count": 15,
   "metadata": {
    "collapsed": true
   },
   "outputs": [],
   "source": [
    "coords_spna = [-9.4, 50,\n",
    "               -56.8, 50,\n",
    "               -67.5, 62.3,\n",
    "               -61.6, 66.7,\n",
    "               -35, 66.7,\n",
    "               -22.1, 66.1,\n",
    "               -3.8, 59,\n",
    "               -9.4, 50]"
   ]
  },
  {
   "cell_type": "code",
   "execution_count": 16,
   "metadata": {
    "collapsed": true
   },
   "outputs": [],
   "source": [
    "# Replace each pair of points by 10 points for projected map\n",
    "geometry = []\n",
    "segments = zip(coords_spna[:-2:2], coords_spna[1:-1:2], coords_spna[2::2], coords_spna[3::2])\n",
    "for line in [shapely.geometry.LineString([(x1, y1), (x2, y2)]) for (x1,y1,x2,y2) in segments]:\n",
    "    for length in np.linspace(0,1,11):\n",
    "        geometry.append( line.interpolate(length, normalized=True) )\n",
    "        \n",
    "gdf_spna = gpd.GeoDataFrame([], geometry=geometry)\n",
    "\n",
    "# Convert Points to Polygon\n",
    "gdf_spna['geometry'] = gdf_spna['geometry'].apply(lambda x: x.coords[0])\n",
    "\n",
    "gdf_spna['shape_id'] = 0\n",
    "gdf_spna = gdf_spna.groupby('shape_id')['geometry'].apply(lambda x: shapely.geometry.Polygon(x.tolist())).reset_index()\n",
    "\n",
    "gdf_spna = gpd.GeoDataFrame(gdf_spna, geometry = 'geometry')\n",
    "\n",
    "# Salem uses this attribute:\n",
    "gdf_spna.crs = {'init': 'epsg:4326'}"
   ]
  },
  {
   "cell_type": "code",
   "execution_count": 17,
   "metadata": {},
   "outputs": [],
   "source": [
    "h_fw_spna = h_fw.salem.roi(shape=gdf_spna.loc[[0]])"
   ]
  },
  {
   "cell_type": "code",
   "execution_count": 18,
   "metadata": {},
   "outputs": [
    {
     "name": "stderr",
     "output_type": "stream",
     "text": [
      "/opt/rh/python27/root/usr/lib/python2.7/site-packages/xarray/core/dtypes.py:23: FutureWarning: Conversion of the second argument of issubdtype from `float` to `np.floating` is deprecated. In future, it will be treated as `np.float64 == np.dtype(float).type`.\n",
      "  if np.issubdtype(dtype, float):\n"
     ]
    }
   ],
   "source": [
    "h_fw_spna = h_fw.salem.roi(shape=gdf_spna.loc[[0]])"
   ]
  },
  {
   "cell_type": "code",
   "execution_count": 19,
   "metadata": {},
   "outputs": [
    {
     "name": "stderr",
     "output_type": "stream",
     "text": [
      "/opt/rh/python27/root/usr/lib/python2.7/site-packages/xarray/plot/utils.py:51: FutureWarning: 'pandas.tseries.converter.register' has been moved and renamed to 'pandas.plotting.register_matplotlib_converters'. \n",
      "  converter.register()\n"
     ]
    },
    {
     "data": {
      "text/plain": [
       "<matplotlib.collections.QuadMesh at 0x5a9a090>"
      ]
     },
     "execution_count": 19,
     "metadata": {},
     "output_type": "execute_result"
    },
    {
     "data": {
      "image/png": "[encoded data removed]",
      "text/plain": [
       "<matplotlib.figure.Figure at 0x22d7190>"
      ]
     },
     "metadata": {},
     "output_type": "display_data"
    }
   ],
   "source": [
    "h_fw_spna[-1].plot()"
   ]
  },
  {
   "cell_type": "code",
   "execution_count": 20,
   "metadata": {
    "collapsed": true
   },
   "outputs": [],
   "source": [
    "lfwc_spna = (h_fw_spna * ds.area).sum(dim=['lat','lon'])\n",
    "\n",
    "# Convert from m^3 to km^3\n",
    "lfwc_spna = lfwc_spna*1e-9"
   ]
  },
  {
   "cell_type": "code",
   "execution_count": 21,
   "metadata": {
    "collapsed": true
   },
   "outputs": [],
   "source": [
    "ds = lfwc_spna.to_dataset(name='lfwc')"
   ]
  },
  {
   "cell_type": "code",
   "execution_count": 22,
   "metadata": {
    "collapsed": true
   },
   "outputs": [],
   "source": [
    "ds.time.attrs = []"
   ]
  },
  {
   "cell_type": "code",
   "execution_count": 23,
   "metadata": {
    "collapsed": true
   },
   "outputs": [],
   "source": [
    "ds.to_netcdf('/home/jet/data/hadobs/hadobs_en4_lfwc_spna_monthly.nc', format='NETCDF4',\n",
    "               encoding={'lfwc':   {'zlib': True}})"
   ]
  },
  {
   "cell_type": "code",
   "execution_count": null,
   "metadata": {
    "collapsed": true
   },
   "outputs": [],
   "source": []
  }
 ],
 "metadata": {
  "kernelspec": {
   "display_name": "Python 3",
   "language": "python",
   "name": "python3"
  },
  "language_info": {
   "codemirror_mode": {
    "name": "ipython",
    "version": 3
   },
   "file_extension": ".py",
   "mimetype": "text/x-python",
   "name": "python",
   "nbconvert_exporter": "python",
   "pygments_lexer": "ipython3",
   "version": "3.6.9"
  }
 },
 "nbformat": 4,
 "nbformat_minor": 2
}
